{
 "cells": [
  {
   "cell_type": "code",
   "execution_count": 4,
   "id": "0b5ed596-66d4-4527-ba6f-d205f25027e5",
   "metadata": {},
   "outputs": [],
   "source": [
    "# load libraries and modules \n",
    "import scipy.io\n",
    "import numpy as np\n",
    "import pandas as pd\n",
    "import matplotlib.pyplot as plt\n",
    "from keras.datasets import mnist\n",
    "from sklearn.ensemble import RandomForestClassifier\n",
    "from sklearn.metrics import accuracy_score\n",
    "from sklearn.metrics import confusion_matrix"
   ]
  },
  {
   "cell_type": "code",
   "execution_count": 5,
   "id": "24a93904-f977-401b-bf7a-0f625d5ac729",
   "metadata": {},
   "outputs": [],
   "source": [
    "# import the data\n",
    "(X_train, y_train), (X_test, y_test) = mnist.load_data()"
   ]
  },
  {
   "cell_type": "markdown",
   "id": "1b1e55f5-25cb-4676-a69a-dff64e109640",
   "metadata": {},
   "source": [
    "The training set is used to train the model.\n",
    "\n",
    "The development set is used to give an early indication of how well the model is performing, and to help tune the parameters of the model.\n",
    "\n",
    "The test set is used to judge the performance of the model after tuning."
   ]
  },
  {
   "cell_type": "code",
   "execution_count": 6,
   "id": "1df79597-191b-4eb4-9eb0-afef59318c68",
   "metadata": {},
   "outputs": [
    {
     "name": "stdout",
     "output_type": "stream",
     "text": [
      "(60000, 28, 28)\n",
      "(60000,)\n",
      "(10000, 28, 28)\n",
      "(10000,)\n"
     ]
    }
   ],
   "source": [
    "# check data shape\n",
    "print(X_train.shape)\n",
    "print(y_train.shape)\n",
    "print(X_test.shape)\n",
    "print(y_test.shape)"
   ]
  },
  {
   "cell_type": "code",
   "execution_count": 7,
   "id": "80dc563d-7e82-42d1-b3e5-ba51d007558b",
   "metadata": {},
   "outputs": [],
   "source": [
    "# reshape data for the model\n",
    "X_train_reshaped = X_train.reshape((60000,28*28))\n",
    "X_test_reshaped = X_test.reshape((10000,28*28))\n"
   ]
  },
  {
   "cell_type": "code",
   "execution_count": 8,
   "id": "571dbd1a-91a0-4f51-a3b4-571510d03797",
   "metadata": {},
   "outputs": [
    {
     "name": "stdout",
     "output_type": "stream",
     "text": [
      "Accuracy: 0.9689\n"
     ]
    }
   ],
   "source": [
    "# create model\n",
    "model = RandomForestClassifier()\n",
    "\n",
    "# fit model on training data\n",
    "model.fit(X_train_reshaped, y_train)\n",
    "\n",
    "# make predictions\n",
    "preds = model.predict(X_test_reshaped)\n",
    "\n",
    "# print accuracy \n",
    "print(\"Accuracy:\", accuracy_score(y_test,preds))\n"
   ]
  },
  {
   "cell_type": "markdown",
   "id": "4e1a90d7-0ce9-4935-838a-3e009cc9cb33",
   "metadata": {},
   "source": [
    "I'm going to pick n_estimators to tune, to see how the number of trees created by the model changes the accuracy. It seems important."
   ]
  },
  {
   "cell_type": "code",
   "execution_count": 9,
   "id": "4e6980a8-0a24-4f58-82f3-d850d255b67c",
   "metadata": {},
   "outputs": [
    {
     "name": "stdout",
     "output_type": "stream",
     "text": [
      "Accuracy: 0.9698\n",
      "n_estimators: 85\n"
     ]
    }
   ],
   "source": [
    "#create empty accuracy variable to update in loop\n",
    "optimal_model_accuracy = 0\n",
    "optimal_estimators = 0\n",
    "\n",
    "# loop from n_accuracy from 5 to 100 in crements of 5, training and running the model and printing the optimal results\n",
    "for i in range(5, 105, 5):\n",
    "    model = RandomForestClassifier(n_estimators = i)\n",
    "    model.fit(X_train_reshaped, y_train)\n",
    "    preds = model.predict(X_test_reshaped)\n",
    "    model_accuracy = accuracy_score(y_test,preds)\n",
    "    if model_accuracy > optimal_model_accuracy:\n",
    "        optimal_model_accuracy = model_accuracy\n",
    "        optimal_estimators = i\n",
    "print(\"Accuracy:\", optimal_model_accuracy)\n",
    "print(\"n_estimators:\", optimal_estimators)"
   ]
  },
  {
   "attachments": {},
   "cell_type": "markdown",
   "id": "d968de59-ead4-4b99-9a13-d4ca6b371ebe",
   "metadata": {},
   "source": [
    "It appears that the model works best with 85 estimators."
   ]
  },
  {
   "cell_type": "code",
   "execution_count": 10,
   "id": "699d5606-7fab-4628-a081-e0fd4fa2260b",
   "metadata": {},
   "outputs": [
    {
     "data": {
      "text/html": [
       "<div>\n",
       "<style scoped>\n",
       "    .dataframe tbody tr th:only-of-type {\n",
       "        vertical-align: middle;\n",
       "    }\n",
       "\n",
       "    .dataframe tbody tr th {\n",
       "        vertical-align: top;\n",
       "    }\n",
       "\n",
       "    .dataframe thead th {\n",
       "        text-align: right;\n",
       "    }\n",
       "</style>\n",
       "<table border=\"1\" class=\"dataframe\">\n",
       "  <thead>\n",
       "    <tr style=\"text-align: right;\">\n",
       "      <th></th>\n",
       "      <th>0</th>\n",
       "      <th>1</th>\n",
       "      <th>2</th>\n",
       "      <th>3</th>\n",
       "      <th>4</th>\n",
       "      <th>5</th>\n",
       "      <th>6</th>\n",
       "      <th>7</th>\n",
       "      <th>8</th>\n",
       "      <th>9</th>\n",
       "    </tr>\n",
       "  </thead>\n",
       "  <tbody>\n",
       "    <tr>\n",
       "      <th>0</th>\n",
       "      <td>970</td>\n",
       "      <td>0</td>\n",
       "      <td>0</td>\n",
       "      <td>0</td>\n",
       "      <td>0</td>\n",
       "      <td>3</td>\n",
       "      <td>3</td>\n",
       "      <td>1</td>\n",
       "      <td>3</td>\n",
       "      <td>0</td>\n",
       "    </tr>\n",
       "    <tr>\n",
       "      <th>1</th>\n",
       "      <td>0</td>\n",
       "      <td>1123</td>\n",
       "      <td>2</td>\n",
       "      <td>3</td>\n",
       "      <td>0</td>\n",
       "      <td>2</td>\n",
       "      <td>2</td>\n",
       "      <td>0</td>\n",
       "      <td>2</td>\n",
       "      <td>1</td>\n",
       "    </tr>\n",
       "    <tr>\n",
       "      <th>2</th>\n",
       "      <td>6</td>\n",
       "      <td>0</td>\n",
       "      <td>998</td>\n",
       "      <td>4</td>\n",
       "      <td>3</td>\n",
       "      <td>0</td>\n",
       "      <td>4</td>\n",
       "      <td>9</td>\n",
       "      <td>8</td>\n",
       "      <td>0</td>\n",
       "    </tr>\n",
       "    <tr>\n",
       "      <th>3</th>\n",
       "      <td>1</td>\n",
       "      <td>0</td>\n",
       "      <td>9</td>\n",
       "      <td>971</td>\n",
       "      <td>0</td>\n",
       "      <td>9</td>\n",
       "      <td>0</td>\n",
       "      <td>10</td>\n",
       "      <td>8</td>\n",
       "      <td>2</td>\n",
       "    </tr>\n",
       "    <tr>\n",
       "      <th>4</th>\n",
       "      <td>1</td>\n",
       "      <td>0</td>\n",
       "      <td>0</td>\n",
       "      <td>0</td>\n",
       "      <td>957</td>\n",
       "      <td>0</td>\n",
       "      <td>6</td>\n",
       "      <td>0</td>\n",
       "      <td>3</td>\n",
       "      <td>15</td>\n",
       "    </tr>\n",
       "    <tr>\n",
       "      <th>5</th>\n",
       "      <td>4</td>\n",
       "      <td>0</td>\n",
       "      <td>1</td>\n",
       "      <td>14</td>\n",
       "      <td>2</td>\n",
       "      <td>857</td>\n",
       "      <td>6</td>\n",
       "      <td>1</td>\n",
       "      <td>5</td>\n",
       "      <td>2</td>\n",
       "    </tr>\n",
       "    <tr>\n",
       "      <th>6</th>\n",
       "      <td>7</td>\n",
       "      <td>3</td>\n",
       "      <td>0</td>\n",
       "      <td>0</td>\n",
       "      <td>3</td>\n",
       "      <td>5</td>\n",
       "      <td>936</td>\n",
       "      <td>0</td>\n",
       "      <td>3</td>\n",
       "      <td>1</td>\n",
       "    </tr>\n",
       "    <tr>\n",
       "      <th>7</th>\n",
       "      <td>2</td>\n",
       "      <td>3</td>\n",
       "      <td>19</td>\n",
       "      <td>1</td>\n",
       "      <td>2</td>\n",
       "      <td>0</td>\n",
       "      <td>0</td>\n",
       "      <td>988</td>\n",
       "      <td>4</td>\n",
       "      <td>9</td>\n",
       "    </tr>\n",
       "    <tr>\n",
       "      <th>8</th>\n",
       "      <td>4</td>\n",
       "      <td>0</td>\n",
       "      <td>4</td>\n",
       "      <td>11</td>\n",
       "      <td>3</td>\n",
       "      <td>4</td>\n",
       "      <td>3</td>\n",
       "      <td>3</td>\n",
       "      <td>935</td>\n",
       "      <td>7</td>\n",
       "    </tr>\n",
       "    <tr>\n",
       "      <th>9</th>\n",
       "      <td>6</td>\n",
       "      <td>6</td>\n",
       "      <td>3</td>\n",
       "      <td>12</td>\n",
       "      <td>13</td>\n",
       "      <td>3</td>\n",
       "      <td>1</td>\n",
       "      <td>5</td>\n",
       "      <td>5</td>\n",
       "      <td>955</td>\n",
       "    </tr>\n",
       "  </tbody>\n",
       "</table>\n",
       "</div>"
      ],
      "text/plain": [
       "     0     1    2    3    4    5    6    7    8    9\n",
       "0  970     0    0    0    0    3    3    1    3    0\n",
       "1    0  1123    2    3    0    2    2    0    2    1\n",
       "2    6     0  998    4    3    0    4    9    8    0\n",
       "3    1     0    9  971    0    9    0   10    8    2\n",
       "4    1     0    0    0  957    0    6    0    3   15\n",
       "5    4     0    1   14    2  857    6    1    5    2\n",
       "6    7     3    0    0    3    5  936    0    3    1\n",
       "7    2     3   19    1    2    0    0  988    4    9\n",
       "8    4     0    4   11    3    4    3    3  935    7\n",
       "9    6     6    3   12   13    3    1    5    5  955"
      ]
     },
     "execution_count": 10,
     "metadata": {},
     "output_type": "execute_result"
    }
   ],
   "source": [
    "# make model again\n",
    "model = RandomForestClassifier(n_estimators = 85)\n",
    "model.fit(X_train_reshaped, y_train)\n",
    "preds = model.predict(X_test_reshaped)\n",
    "\n",
    "# create confusion matrix\n",
    "classes = ['0','1','2','3','4','5','6','7','8','9']\n",
    "conf_mat = confusion_matrix(y_test, preds)\n",
    "conf_matrix_df = pd.DataFrame(conf_mat, columns=classes, index=classes)\n",
    "conf_matrix_df"
   ]
  },
  {
   "cell_type": "code",
   "execution_count": 11,
   "id": "ad7c36ea-d5c9-4aae-9e51-74001ee97090",
   "metadata": {},
   "outputs": [
    {
     "name": "stdout",
     "output_type": "stream",
     "text": [
      "0 accuracy = 0.9897959183673469\n",
      "1 accuracy = 0.9894273127753304\n",
      "2 accuracy = 0.9670542635658915\n",
      "3 accuracy = 0.9613861386138614\n",
      "4 accuracy = 0.9745417515274949\n",
      "5 accuracy = 0.9607623318385651\n",
      "6 accuracy = 0.9770354906054279\n",
      "7 accuracy = 0.9610894941634242\n",
      "8 accuracy = 0.9599589322381931\n",
      "9 accuracy = 0.9464816650148662\n"
     ]
    }
   ],
   "source": [
    "# calculate accuracies of each class\n",
    "for i in range(10):\n",
    "    accuracy = conf_matrix_df.iloc[i][i] / conf_matrix_df.sum(axis='columns')[i]\n",
    "    print(f\"{i} accuracy = {accuracy}\")"
   ]
  },
  {
   "attachments": {},
   "cell_type": "markdown",
   "id": "6a9ccc3f-cf27-43fa-b28c-8510edda751a",
   "metadata": {},
   "source": [
    "It appears that the number 9 is the toughest class for the model to recognise.\n",
    "\n",
    "As printed before, the overall accuracy is 0.9698"
   ]
  },
  {
   "cell_type": "code",
   "execution_count": 12,
   "id": "5b1d2b50-e46c-4ca5-9db6-637b8c952839",
   "metadata": {},
   "outputs": [
    {
     "data": {
      "text/plain": [
       "(array([0.98979592, 0.98942731, 0.96705426, 0.96138614, 0.97454175,\n",
       "        0.96076233, 0.97703549, 0.96108949, 0.95995893, 0.94648167]),\n",
       " array([0.96903097, 0.98942731, 0.96332046, 0.95570866, 0.97355036,\n",
       "        0.97055493, 0.97398543, 0.97148476, 0.9579918 , 0.96270161]),\n",
       " array([0.97930338, 0.98942731, 0.96518375, 0.95853899, 0.9740458 ,\n",
       "        0.9656338 , 0.97550808, 0.96625917, 0.95897436, 0.95452274]),\n",
       " array([1001, 1135, 1036, 1016,  983,  883,  961, 1017,  976,  992],\n",
       "       dtype=int64))"
      ]
     },
     "execution_count": 12,
     "metadata": {},
     "output_type": "execute_result"
    }
   ],
   "source": [
    "from sklearn.metrics import precision_recall_fscore_support\n",
    "\n",
    "precision_recall_fscore_support(preds, y_test)"
   ]
  }
 ],
 "metadata": {
  "kernelspec": {
   "display_name": "Python 3",
   "language": "python",
   "name": "python3"
  },
  "language_info": {
   "codemirror_mode": {
    "name": "ipython",
    "version": 3
   },
   "file_extension": ".py",
   "mimetype": "text/x-python",
   "name": "python",
   "nbconvert_exporter": "python",
   "pygments_lexer": "ipython3",
   "version": "3.10.7"
  },
  "vscode": {
   "interpreter": {
    "hash": "e68fe422e9e90a981c322f7dfc0ad9b4717970a09b9336df69d8677b900b9fd6"
   }
  }
 },
 "nbformat": 4,
 "nbformat_minor": 5
}
